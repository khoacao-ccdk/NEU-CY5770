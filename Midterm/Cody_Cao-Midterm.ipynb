{
 "cells": [
  {
   "cell_type": "markdown",
   "id": "a15b9cdc",
   "metadata": {},
   "source": [
    "# Problem 1"
   ]
  },
  {
   "cell_type": "markdown",
   "id": "4a9d7d71",
   "metadata": {},
   "source": [
    "<h3>a)</h3> \n",
    "The cryptographic key in the described symmetric cryptosystem would be the value of x, or number of rows in the table."
   ]
  },
  {
   "cell_type": "markdown",
   "id": "cec9e005",
   "metadata": {},
   "source": [
    "<h3>b)</h3>\n",
    "It is a well-defined cryptosystem. If the user knows the length (n) and the secret key (x), they should be able to work backward to form the plaintext. "
   ]
  },
  {
   "cell_type": "markdown",
   "id": "09884432",
   "metadata": {},
   "source": [
    "<h3>c)</h3>\n",
    "The defined system is not secured since it can be attacked by the frequency analysis method. Additionally, the system has quite a weak key space that can be brute forced by the attacker."
   ]
  },
  {
   "cell_type": "markdown",
   "id": "a71f11df",
   "metadata": {},
   "source": [
    "<h3>d)</h3>\n",
    "d)\tn = 27, x = 5\n",
    "Plain text: Oh, perfect crimes do not exist.\n",
    "Cyphertext: TIEEOMRRP.XNECF,TIOSTEHSDCO\n",
    "\n",
    "![Table](data:image/png;base64,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)"
   ]
  },
  {
   "cell_type": "code",
   "execution_count": 12,
   "id": "6966a8ff",
   "metadata": {},
   "outputs": [
    {
     "name": "stdout",
     "output_type": "stream",
     "text": [
      "[['O', '', '', '', '', '', '', '', 'c', '', '', '', '', '', '', '', 'd', '', '', '', '', '', '', '', 's', '', ''], ['', 'h', '', '', '', '', '', 'e', '', 't', '', '', '', '', '', 's', '', 'o', '', '', '', '', '', 'i', '', 't', ''], ['', '', ',', '', '', '', 'f', '', '', '', 'c', '', '', '', 'e', '', '', '', 'n', '', '', '', 'x', '', '', '', '.'], ['', '', '', 'p', '', 'r', '', '', '', '', '', 'r', '', 'm', '', '', '', '', '', 'o', '', 'e', '', '', '', '', ''], ['', '', '', '', 'e', '', '', '', '', '', '', '', 'i', '', '', '', '', '', '', '', 't', '', '', '', '', '', '']]\n",
      "Plaintext: Oh, perfect crimes do not exist.\n",
      "Ciphertext: tieeomrrp.xnecf,tiostehsdcO\n"
     ]
    }
   ],
   "source": [
    "def encrypt(plaintext, x):\n",
    "    plaintext = plaintext.replace(\" \", \"\")\n",
    "    n = len(plaintext)\n",
    "    if n >= 250:\n",
    "        print(\"Not Supported length!\")\n",
    "        return\n",
    "    goingDown = True\n",
    "    rowInd = 0\n",
    "    table = [[''] * n for _ in range(x)]\n",
    "    #Creates the table \n",
    "    for i in range(n):\n",
    "        c = plaintext[i]\n",
    "        table[rowInd][i] = c\n",
    "        rowInd += 1 if goingDown else -1\n",
    "        if (rowInd == 0 or rowInd == x - 1):\n",
    "            goingDown = not goingDown\n",
    "    #Forms ciphertext from table\n",
    "    ciphertext = \"\"\n",
    "    for i in range(x-1, -1, -1):\n",
    "        for j in range(n-1, -1, -1):\n",
    "            if table[i][j] != '':\n",
    "                ciphertext += table[i][j]\n",
    "    print(table)\n",
    "    return ciphertext\n",
    "\n",
    "# Example usage\n",
    "plaintext = \"Oh, perfect crimes do not exist.\"\n",
    "x = 5\n",
    "ciphertext = encrypt(plaintext, x)\n",
    "print(\"Plaintext:\", plaintext)\n",
    "print(\"Ciphertext:\", ciphertext)\n"
   ]
  },
  {
   "cell_type": "markdown",
   "id": "648a9747",
   "metadata": {},
   "source": [
    "# Problem 2"
   ]
  },
  {
   "cell_type": "markdown",
   "id": "e207363f",
   "metadata": {},
   "source": [
    "<h3>a)</h3>\n",
    "The homomorphic property allows you to perform mathematical operations on encrypted data (ciphertext) without needing to decrypt it first. The result, after decryption, is the same as if you performed the operations on the original data (plaintext). For example, there is a function add(c1, c2) = c3 that sums up the two ciphertexts c1 = $e_{pub}(p1)$, c2 = $e_{pub}(p2)$. The result vaue c3, when decrypted: $p3 = d_{priv}(c3)$, should be exactly the same as the sum of p1 and p2.\n",
    "\n",
    "<h3>b)</h3>\n",
    "Semantic security is a property of cryptographic systems where the attacker cannot gain any meaningful information about the plaintext by observing the corresponding ciphertext. This property ensures that the encrypted data reveals no information about the raw message.\n",
    "\n",
    "<h3>c)</h3>\n",
    "Cryptographic malleability is a vulnerability where an attacker can manipulate a ciphertext to create a new related ciphertext that decrypts to a related plaintext. For example, there is a plaintext m. An attacker can somehow generate another plaintext m' that, when encrypted, has the same value as the encrypted value of m ($e(m) \\equiv e(m'))$. This resulting in the attacker being able to manipulate the cryptosystem without needing to have an understanding of the system's operation."
   ]
  },
  {
   "cell_type": "markdown",
   "id": "a7a7b4bc",
   "metadata": {},
   "source": [
    "# Problem 3"
   ]
  },
  {
   "cell_type": "markdown",
   "id": "beecdf28",
   "metadata": {},
   "source": [
    "<h3>a)</h3>\n",
    "The described function is not preimage resistant due to the following reasons:\n",
    "\n",
    "1. <b>Deterministic steps:</b> The remaining steps (removing odd elements, adding 3 to the rest of the elements, subtracting a constant value (234)) are quite simple math operations. These operations are easily reversible, meaning an attacker could potentially find the original message (plaintext) given only the hash output.\n",
    "2. <b>Limited Input Space:</b> The substitution cipher only uses the 26 letters in the alphabets. This restricts the possible variations in the plaintext. In combination with (1), an attacker can infer the length of the string since there was not many effort of manipulating the length, then brute force through every combination of the possible messages (limited by the alphabet size) and calculate their hash values. If they find a match with the target hash output, they've successfully discovered the preimage.\n"
   ]
  },
  {
   "cell_type": "markdown",
   "id": "f50c3f68",
   "metadata": {},
   "source": [
    "<h3>b)</h3>\n",
    "With the output space of 10^9 (cardinality), the chance of collisions increases as the attacker keeps querying the hash function. The Birthday Problem says that in a group of M people where there is a probability of 50% that two people might share the same birthday, we need to ask about $1.177 \\sqrt{M}$ to find two people with the same birthday. \n",
    "\n",
    "Similarly, in cryptography, the probability of finding a collision increases with the number of messages hashed. In this scenario, given M = $10^9$, we can calculate the number of trials (Q) as follow: \n",
    "\n",
    "$Q \\approx 1.177 \\sqrt M \\approx 37$. Thus, an attacker only need to try about 37 times to find two input values that would hash into the same hash output.\n"
   ]
  },
  {
   "cell_type": "markdown",
   "id": "d36bc2c9",
   "metadata": {},
   "source": [
    "# Problem 4"
   ]
  },
  {
   "cell_type": "markdown",
   "id": "9ad8d3df",
   "metadata": {},
   "source": [
    "<h3>a)</h3>\n",
    "1. Pre-distribution (Steps a & b):\n",
    "- Detective Kurt pre-distributes his public keys $(p_H, \\alpha_H)$ and $(p_R, \\alpha_R)$ to Detective Harry and Detective Ryan, respectively.\n",
    "- Detective Kurt chooses two secrets $(a_{K1})$, $(a_{K2})$, while detective Harry and Ryan choose ($a_H$), ($a_R$) respectively.\n",
    "\n",
    "\n"
   ]
  }
 ],
 "metadata": {
  "kernelspec": {
   "display_name": "Python 3 (ipykernel)",
   "language": "python",
   "name": "python3"
  },
  "language_info": {
   "codemirror_mode": {
    "name": "ipython",
    "version": 3
   },
   "file_extension": ".py",
   "mimetype": "text/x-python",
   "name": "python",
   "nbconvert_exporter": "python",
   "pygments_lexer": "ipython3",
   "version": "3.9.13"
  }
 },
 "nbformat": 4,
 "nbformat_minor": 5
}
